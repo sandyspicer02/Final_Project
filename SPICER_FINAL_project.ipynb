{
 "cells": [
  {
   "cell_type": "markdown",
   "metadata": {},
   "source": [
    "# Final project\n",
    "\n",
    "**Can you escape a velociraptor?**\n",
    "\n",
    "Your goal is to figure out whether or not a velociraptor will catch you or if you can outrun it!\n",
    "\n",
    "## Problem 1. Position vs. time\n",
    "\n",
    "Suppose a velociraptor can run 18 m/s. And suppose you can run at 3 m/s, but you have a 30 meter head start. Assume that you and the 'raptor accelerate so quickly that you can ignore acceleration. \n",
    "\n",
    "Make a plot of the position vs. time for both you and the 'raptor (plot both on the same figure). Clearly label all axes and give the plot a legend. Plot over a suitable time frame. Save the figure as a .png file. \n",
    "\n",
    "*This plot will be included in your write-up*."
   ]
  },
  {
   "cell_type": "code",
   "execution_count": 1,
   "metadata": {
    "collapsed": false
   },
   "outputs": [
    {
     "data": {
      "image/png": "[encoded data removed]",
      "text/plain": [
       "<matplotlib.figure.Figure at 0x1044b5e50>"
      ]
     },
     "metadata": {},
     "output_type": "display_data"
    }
   ],
   "source": [
    "import matplotlib.pylab as plt\n",
    "%matplotlib inline\n",
    "import numpy as np\n",
    "\n",
    "v1 = 18 # Velocity of velociraptor measured in m/s\n",
    "v2 = 3 # Velocity of person measured in m/s\n",
    "\n",
    "time=[] # Measured in s\n",
    "for i in range(0,500):\n",
    "    c = i/100.0\n",
    "    time.append(c)\n",
    "    \n",
    "# Velociraptor Equation\n",
    "x1=[]\n",
    "for i in time:\n",
    "    d = 18*i\n",
    "    x1.append(d)\n",
    "\n",
    "# Person Equation\n",
    "x2=[]\n",
    "for i in time:\n",
    "    e = 3*i+30 # Add 30 because you have a 30 meter head start\n",
    "    x2.append(e)\n",
    "\n",
    "plt.plot(time,x1,label=\"Velociraptor\")\n",
    "plt.plot(time,x2,label=\"Person\")\n",
    "plt.xlabel('Time (s)',fontsize=12)\n",
    "plt.ylabel('Position (m)',fontsize=12)\n",
    "plt.title(\"Position vs. Time\",fontsize=14)\n",
    "plt.legend(loc='upper left')\n",
    "\n",
    "plt.savefig('Position_vs_Time')"
   ]
  },
  {
   "cell_type": "markdown",
   "metadata": {},
   "source": [
    "## Problem 2. When does the 'raptor catch up to you?\n",
    "\n",
    "Use your code to figure out when the raptor catches up to you. Both how much time has passed and how far *you* have run.  \n",
    "\n",
    "Do not just get this information off the graph. Use your Python code to figure this out! Getting the information just by looking at the plot will result in a 0 for this question. You can use an analytic approach (algebra) to check your answer, but that is not the approach I want you to use. Depending on how you write your code, you might not get an *exact* answer, but you should find a way to get pretty close to the algebraic solution. "
   ]
  },
  {
   "cell_type": "code",
   "execution_count": 57,
   "metadata": {
    "collapsed": false
   },
   "outputs": [
    {
     "name": "stdout",
     "output_type": "stream",
     "text": [
      "The raptor catches up to you in 2 seconds.\n",
      "The raptor catches up to you after 36 meters.\n"
     ]
    }
   ],
   "source": [
    "def time_and_distance1(x1,x2,t1):\n",
    "    for i in range(0,500):\n",
    "        if x1[i] == x2[i]:\n",
    "            return t1[i],x1[i]\n",
    "\n",
    "t1,d1 = time_and_distance1(x1,x2,time)\n",
    "print \"The raptor catches up to you in %d seconds.\" %(t1)\n",
    "print \"The raptor catches up to you after %d meters.\" %(d1)"
   ]
  },
  {
   "cell_type": "markdown",
   "metadata": {},
   "source": [
    "## Problem 3. When is it close enough to strike?\n",
    "\n",
    "It turns out the 'raptor will start trying to attack when it is 1 meter away. How much time has passed and how far have you run when it is 1 meter behind you? Use a similar approach as the last problem. \n",
    "\n",
    "***Also make a new copy of the above plot, but label (with a line or arrow or whatever you want) the point at which the raptor is 1 meter behind you.***"
   ]
  },
  {
   "cell_type": "code",
   "execution_count": 69,
   "metadata": {
    "collapsed": false
   },
   "outputs": [
    {
     "name": "stdout",
     "output_type": "stream",
     "text": [
      "1.940000 seconds have passed.\n",
      "You have run 34.920000 meters.\n"
     ]
    },
    {
     "data": {
      "image/png": "[encoded data removed]",
      "text/plain": [
       "<matplotlib.figure.Figure at 0x10b19cd10>"
      ]
     },
     "metadata": {},
     "output_type": "display_data"
    }
   ],
   "source": [
    "def time_and_distance2(x1,x2,t2):\n",
    "    for i in range(0,500):\n",
    "        if x2[i] - x1[i]<1:\n",
    "            return t2[i],x1[i]\n",
    "\n",
    "t2,d2 = time_and_distance2(x1,x2,time)\n",
    "print \"%f seconds have passed.\" %t2\n",
    "print \"You have run %f meters.\" %d2\n",
    "\n",
    "plt.plot(time,x1,label=\"Velociraptor\")\n",
    "plt.plot(time,x2,label=\"Person\")\n",
    "plt.xlabel('Time (s)',fontsize=12)\n",
    "plt.ylabel('Position (m)',fontsize=12)\n",
    "plt.title(\"Position vs. Time\",fontsize=14)\n",
    "plt.legend(loc='upper left')\n",
    "plt.arrow(1.94, 50, 0.0, -10.0, head_width=0.12, head_length=4, fc='k', ec='k')\n",
    "\n",
    "plt.savefig('Position_vs_Time_Arrow')"
   ]
  },
  {
   "cell_type": "markdown",
   "metadata": {},
   "source": [
    "## Problem 4. Will it bite you?\n",
    "\n",
    "When the 'raptor is 1 meter away, it will try to bite you. If it doesn't bite you, it will try a second and (if necessary) a third time. If it doesn't get you on the third try, it will grow frustrated and stop chasing you. Hurray!\n",
    "\n",
    "Suppose the first time it tries, there is a 20% chance it will bite you. If it misses and it needs to try a second time, there is only a 15% chance, and if it misses *that* time, there is only a 7% chance on the third try. \n",
    "\n",
    "If it bites you once, you're 'raptor food. If it misses all three times, you get away!\n",
    "\n",
    "What is the probability that you will get away?\n"
   ]
  },
  {
   "cell_type": "code",
   "execution_count": 6,
   "metadata": {
    "collapsed": true
   },
   "outputs": [],
   "source": [
    "# First try is 20% or 1 in 5 chance\n",
    "# Second try is 15% or 3 in 20 chance\n",
    "# Third try is 7% or 7 in 100 chance\n",
    "\n",
    "def bite():\n",
    "    first_try = np.random.randint(100)\n",
    "    second_try = np.random.randint(100)\n",
    "    third_try = np.random.randint(100)\n",
    "    \n",
    "    if first_try <= 20:\n",
    "        return \"The velociraptor has bitten you.\"\n",
    "    elif second_try <= 15:\n",
    "        return \"The velociraptor has bitten you.\"\n",
    "    elif third_try <= 7:\n",
    "        return \"The velociraptor has bitten you.\"\n",
    "    else:\n",
    "        return \"You will escape!\""
   ]
  },
  {
   "cell_type": "code",
   "execution_count": 36,
   "metadata": {
    "collapsed": false
   },
   "outputs": [
    {
     "name": "stdout",
     "output_type": "stream",
     "text": [
      "The probability of you escaping is around 59.70%.\n"
     ]
    }
   ],
   "source": [
    "failures = 0\n",
    "successes = 0\n",
    "for i in range(0,1000):\n",
    "    i += 1\n",
    "    t = bite()\n",
    "    if t == \"The velociraptor has bitten you.\":\n",
    "        failures += 1\n",
    "    elif t == \"You will escape!\":\n",
    "        successes += 1\n",
    "probability = (successes/float(1000))*100\n",
    "print \"The probability of you escaping is around %.2f%%.\" % probability"
   ]
  },
  {
   "cell_type": "code",
   "execution_count": null,
   "metadata": {
    "collapsed": true
   },
   "outputs": [],
   "source": []
  }
 ],
 "metadata": {
  "kernelspec": {
   "display_name": "Python 2",
   "language": "python",
   "name": "python2"
  },
  "language_info": {
   "codemirror_mode": {
    "name": "ipython",
    "version": 2
   },
   "file_extension": ".py",
   "mimetype": "text/x-python",
   "name": "python",
   "nbconvert_exporter": "python",
   "pygments_lexer": "ipython2",
   "version": "2.7.10"
  }
 },
 "nbformat": 4,
 "nbformat_minor": 0
}
